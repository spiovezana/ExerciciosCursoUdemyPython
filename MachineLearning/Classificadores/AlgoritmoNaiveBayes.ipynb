{
 "cells": [
  {
   "cell_type": "code",
   "execution_count": null,
   "metadata": {},
   "outputs": [],
   "source": [
    "# Algoritmo Naïve Bayes\n",
    "# Classificador"
   ]
  },
  {
   "cell_type": "code",
   "execution_count": 4,
   "metadata": {},
   "outputs": [],
   "source": [
    "# Importação das bibliotecas\n",
    "import pandas as pd\n",
    "from sklearn.model_selection import train_test_split\n",
    "from sklearn.naive_bayes import GaussianNB\n",
    "from sklearn.preprocessing import LabelEncoder\n",
    "from sklearn.metrics import confusion_matrix, accuracy_score\n",
    "from yellowbrick.classifier import ConfusionMatrix "
   ]
  },
  {
   "cell_type": "code",
   "execution_count": 8,
   "metadata": {},
   "outputs": [
    {
     "data": {
      "text/plain": [
       "(1000, 21)"
      ]
     },
     "execution_count": 8,
     "metadata": {},
     "output_type": "execute_result"
    }
   ],
   "source": [
    "# Carregamento da base de dados\n",
    "# 1000 instâncias e 21 colunas\n",
    "credito = pd.read_csv('Credit.csv')\n",
    "credito.shape"
   ]
  },
  {
   "cell_type": "code",
   "execution_count": 7,
   "metadata": {},
   "outputs": [
    {
     "data": {
      "text/html": [
       "<div>\n",
       "<style scoped>\n",
       "    .dataframe tbody tr th:only-of-type {\n",
       "        vertical-align: middle;\n",
       "    }\n",
       "\n",
       "    .dataframe tbody tr th {\n",
       "        vertical-align: top;\n",
       "    }\n",
       "\n",
       "    .dataframe thead th {\n",
       "        text-align: right;\n",
       "    }\n",
       "</style>\n",
       "<table border=\"1\" class=\"dataframe\">\n",
       "  <thead>\n",
       "    <tr style=\"text-align: right;\">\n",
       "      <th></th>\n",
       "      <th>checking_status</th>\n",
       "      <th>duration</th>\n",
       "      <th>credit_history</th>\n",
       "      <th>purpose</th>\n",
       "      <th>credit_amount</th>\n",
       "      <th>savings_status</th>\n",
       "      <th>employment</th>\n",
       "      <th>installment_commitment</th>\n",
       "      <th>personal_status</th>\n",
       "      <th>other_parties</th>\n",
       "      <th>...</th>\n",
       "      <th>property_magnitude</th>\n",
       "      <th>age</th>\n",
       "      <th>other_payment_plans</th>\n",
       "      <th>housing</th>\n",
       "      <th>existing_credits</th>\n",
       "      <th>job</th>\n",
       "      <th>num_dependents</th>\n",
       "      <th>own_telephone</th>\n",
       "      <th>foreign_worker</th>\n",
       "      <th>class</th>\n",
       "    </tr>\n",
       "  </thead>\n",
       "  <tbody>\n",
       "    <tr>\n",
       "      <th>0</th>\n",
       "      <td>&lt;0</td>\n",
       "      <td>6</td>\n",
       "      <td>'critical/other existing credit'</td>\n",
       "      <td>radio/tv</td>\n",
       "      <td>1169</td>\n",
       "      <td>'no known savings'</td>\n",
       "      <td>&gt;=7</td>\n",
       "      <td>4</td>\n",
       "      <td>'male single'</td>\n",
       "      <td>none</td>\n",
       "      <td>...</td>\n",
       "      <td>'real estate'</td>\n",
       "      <td>67</td>\n",
       "      <td>none</td>\n",
       "      <td>own</td>\n",
       "      <td>2</td>\n",
       "      <td>skilled</td>\n",
       "      <td>1</td>\n",
       "      <td>yes</td>\n",
       "      <td>yes</td>\n",
       "      <td>good</td>\n",
       "    </tr>\n",
       "    <tr>\n",
       "      <th>1</th>\n",
       "      <td>0&lt;=X&lt;200</td>\n",
       "      <td>48</td>\n",
       "      <td>'existing paid'</td>\n",
       "      <td>radio/tv</td>\n",
       "      <td>5951</td>\n",
       "      <td>&lt;100</td>\n",
       "      <td>1&lt;=X&lt;4</td>\n",
       "      <td>2</td>\n",
       "      <td>'female div/dep/mar'</td>\n",
       "      <td>none</td>\n",
       "      <td>...</td>\n",
       "      <td>'real estate'</td>\n",
       "      <td>22</td>\n",
       "      <td>none</td>\n",
       "      <td>own</td>\n",
       "      <td>1</td>\n",
       "      <td>skilled</td>\n",
       "      <td>1</td>\n",
       "      <td>none</td>\n",
       "      <td>yes</td>\n",
       "      <td>bad</td>\n",
       "    </tr>\n",
       "    <tr>\n",
       "      <th>2</th>\n",
       "      <td>'no checking'</td>\n",
       "      <td>12</td>\n",
       "      <td>'critical/other existing credit'</td>\n",
       "      <td>education</td>\n",
       "      <td>2096</td>\n",
       "      <td>&lt;100</td>\n",
       "      <td>4&lt;=X&lt;7</td>\n",
       "      <td>2</td>\n",
       "      <td>'male single'</td>\n",
       "      <td>none</td>\n",
       "      <td>...</td>\n",
       "      <td>'real estate'</td>\n",
       "      <td>49</td>\n",
       "      <td>none</td>\n",
       "      <td>own</td>\n",
       "      <td>1</td>\n",
       "      <td>'unskilled resident'</td>\n",
       "      <td>2</td>\n",
       "      <td>none</td>\n",
       "      <td>yes</td>\n",
       "      <td>good</td>\n",
       "    </tr>\n",
       "    <tr>\n",
       "      <th>3</th>\n",
       "      <td>&lt;0</td>\n",
       "      <td>42</td>\n",
       "      <td>'existing paid'</td>\n",
       "      <td>furniture/equipment</td>\n",
       "      <td>7882</td>\n",
       "      <td>&lt;100</td>\n",
       "      <td>4&lt;=X&lt;7</td>\n",
       "      <td>2</td>\n",
       "      <td>'male single'</td>\n",
       "      <td>guarantor</td>\n",
       "      <td>...</td>\n",
       "      <td>'life insurance'</td>\n",
       "      <td>45</td>\n",
       "      <td>none</td>\n",
       "      <td>'for free'</td>\n",
       "      <td>1</td>\n",
       "      <td>skilled</td>\n",
       "      <td>2</td>\n",
       "      <td>none</td>\n",
       "      <td>yes</td>\n",
       "      <td>good</td>\n",
       "    </tr>\n",
       "    <tr>\n",
       "      <th>4</th>\n",
       "      <td>&lt;0</td>\n",
       "      <td>24</td>\n",
       "      <td>'delayed previously'</td>\n",
       "      <td>'new car'</td>\n",
       "      <td>4870</td>\n",
       "      <td>&lt;100</td>\n",
       "      <td>1&lt;=X&lt;4</td>\n",
       "      <td>3</td>\n",
       "      <td>'male single'</td>\n",
       "      <td>none</td>\n",
       "      <td>...</td>\n",
       "      <td>'no known property'</td>\n",
       "      <td>53</td>\n",
       "      <td>none</td>\n",
       "      <td>'for free'</td>\n",
       "      <td>2</td>\n",
       "      <td>skilled</td>\n",
       "      <td>2</td>\n",
       "      <td>none</td>\n",
       "      <td>yes</td>\n",
       "      <td>bad</td>\n",
       "    </tr>\n",
       "  </tbody>\n",
       "</table>\n",
       "<p>5 rows × 21 columns</p>\n",
       "</div>"
      ],
      "text/plain": [
       "  checking_status  duration                    credit_history  \\\n",
       "0              <0         6  'critical/other existing credit'   \n",
       "1        0<=X<200        48                   'existing paid'   \n",
       "2   'no checking'        12  'critical/other existing credit'   \n",
       "3              <0        42                   'existing paid'   \n",
       "4              <0        24              'delayed previously'   \n",
       "\n",
       "               purpose  credit_amount      savings_status employment  \\\n",
       "0             radio/tv           1169  'no known savings'        >=7   \n",
       "1             radio/tv           5951                <100     1<=X<4   \n",
       "2            education           2096                <100     4<=X<7   \n",
       "3  furniture/equipment           7882                <100     4<=X<7   \n",
       "4            'new car'           4870                <100     1<=X<4   \n",
       "\n",
       "   installment_commitment       personal_status other_parties  ...  \\\n",
       "0                       4         'male single'          none  ...   \n",
       "1                       2  'female div/dep/mar'          none  ...   \n",
       "2                       2         'male single'          none  ...   \n",
       "3                       2         'male single'     guarantor  ...   \n",
       "4                       3         'male single'          none  ...   \n",
       "\n",
       "    property_magnitude age  other_payment_plans     housing existing_credits  \\\n",
       "0        'real estate'  67                 none         own                2   \n",
       "1        'real estate'  22                 none         own                1   \n",
       "2        'real estate'  49                 none         own                1   \n",
       "3     'life insurance'  45                 none  'for free'                1   \n",
       "4  'no known property'  53                 none  'for free'                2   \n",
       "\n",
       "                    job num_dependents  own_telephone foreign_worker class  \n",
       "0               skilled              1            yes            yes  good  \n",
       "1               skilled              1           none            yes   bad  \n",
       "2  'unskilled resident'              2           none            yes  good  \n",
       "3               skilled              2           none            yes  good  \n",
       "4               skilled              2           none            yes   bad  \n",
       "\n",
       "[5 rows x 21 columns]"
      ]
     },
     "execution_count": 7,
     "metadata": {},
     "output_type": "execute_result"
    }
   ],
   "source": [
    "# Visualização do cabeçalho e definição dos previsores (variáveis independentes - X) e a classe (variável dependente - y)\n",
    "credito.head()"
   ]
  },
  {
   "cell_type": "code",
   "execution_count": 11,
   "metadata": {},
   "outputs": [],
   "source": [
    "# Tratamento de dados\n",
    "# Separando os previsores da classe e os deixando no formato de matriz\n",
    "previsores = credito.iloc[:,0:20].values\n",
    "classe = credito.iloc[:,20].values"
   ]
  },
  {
   "cell_type": "code",
   "execution_count": 12,
   "metadata": {},
   "outputs": [],
   "source": [
    "# Transformação dos atributos categóricos em atributos numéricos, passando o índice de cada coluna categórica\n",
    "# Esse processo é necessário, pois grande parte dos algoritmos de machine learning não identificam atributos categóricos\n",
    "# Eu poderia ter feito um laço para esse tratamento de dados, mas para fins didáticos optei por deixar dessa maneira para melhor visualização\n",
    "# Precisamos criar um objeto para cada atributo categórico, pois na sequência vamos executar o processo de encoding novamente para o registro de teste\n",
    "# Se forem utilizados objetos diferentes, o número atribuído a cada valor poderá ser diferente, o que deixará o teste inconsistente\n",
    "labelencoder1 = LabelEncoder()\n",
    "previsores[:,0] = labelencoder1.fit_transform(previsores[:,0])\n",
    "\n",
    "labelencoder2 = LabelEncoder()\n",
    "previsores[:,2] = labelencoder2.fit_transform(previsores[:,2])\n",
    "\n",
    "labelencoder3 = LabelEncoder()\n",
    "previsores[:, 3] = labelencoder3.fit_transform(previsores[:, 3])\n",
    "\n",
    "labelencoder4 = LabelEncoder()\n",
    "previsores[:, 5] = labelencoder4.fit_transform(previsores[:, 5])\n",
    "\n",
    "labelencoder5 = LabelEncoder()\n",
    "previsores[:, 6] = labelencoder5.fit_transform(previsores[:, 6])\n",
    "\n",
    "labelencoder6 = LabelEncoder()\n",
    "previsores[:, 8] = labelencoder6.fit_transform(previsores[:, 8])\n",
    "\n",
    "labelencoder7 = LabelEncoder()\n",
    "previsores[:, 9] = labelencoder7.fit_transform(previsores[:, 9])\n",
    "\n",
    "labelencoder8 = LabelEncoder()\n",
    "previsores[:, 11] = labelencoder8.fit_transform(previsores[:, 11])\n",
    "\n",
    "labelencoder9 = LabelEncoder()\n",
    "previsores[:, 13] = labelencoder9.fit_transform(previsores[:, 13])\n",
    "\n",
    "labelencoder10 = LabelEncoder()\n",
    "previsores[:, 14] = labelencoder10.fit_transform(previsores[:, 14])\n",
    "\n",
    "labelencoder11 = LabelEncoder()\n",
    "previsores[:, 16] = labelencoder11.fit_transform(previsores[:, 16])\n",
    "\n",
    "labelencoder12 = LabelEncoder()\n",
    "previsores[:, 18] = labelencoder12.fit_transform(previsores[:, 18])\n",
    "\n",
    "labelencoder13 = LabelEncoder()\n",
    "previsores[:, 19] = labelencoder13.fit_transform(previsores[:, 19])"
   ]
  },
  {
   "cell_type": "code",
   "execution_count": 13,
   "metadata": {},
   "outputs": [
    {
     "data": {
      "text/plain": [
       "array([[2, 36, 3, ..., 1, 1, 1],\n",
       "       [0, 9, 3, ..., 2, 0, 0],\n",
       "       [0, 18, 3, ..., 1, 1, 1],\n",
       "       ...,\n",
       "       [0, 24, 1, ..., 1, 0, 1],\n",
       "       [1, 27, 4, ..., 1, 1, 1],\n",
       "       [1, 12, 3, ..., 1, 0, 1]], dtype=object)"
      ]
     },
     "execution_count": 13,
     "metadata": {},
     "output_type": "execute_result"
    }
   ],
   "source": [
    "# Divisão da base de dados entre treinamento e teste (30% para testar e 70% para treinar)\n",
    "X_treinamento, X_teste, y_treinamento, y_teste = train_test_split(previsores,\n",
    "                                                                  classe,\n",
    "                                                                  test_size = 0.3,\n",
    "                                                                  random_state = 0)\n",
    "X_teste"
   ]
  },
  {
   "cell_type": "code",
   "execution_count": 14,
   "metadata": {},
   "outputs": [
    {
     "data": {
      "text/plain": [
       "GaussianNB()"
      ]
     },
     "execution_count": 14,
     "metadata": {},
     "output_type": "execute_result"
    }
   ],
   "source": [
    "# Criação e treinamento do modelo (geração da tabela de probabilidades)\n",
    "naive_bayes = GaussianNB()\n",
    "naive_bayes.fit(X_treinamento, y_treinamento)"
   ]
  },
  {
   "cell_type": "code",
   "execution_count": 15,
   "metadata": {},
   "outputs": [
    {
     "data": {
      "text/plain": [
       "array(['bad', 'good', 'good', 'good', 'bad', 'good', 'good', 'good',\n",
       "       'good', 'bad', 'bad', 'bad', 'good', 'bad', 'good', 'good', 'good',\n",
       "       'good', 'bad', 'good', 'bad', 'good', 'bad', 'good', 'good', 'bad',\n",
       "       'good', 'good', 'good', 'bad', 'good', 'good', 'good', 'good',\n",
       "       'good', 'bad', 'good', 'good', 'good', 'good', 'good', 'bad',\n",
       "       'good', 'good', 'good', 'bad', 'bad', 'bad', 'bad', 'bad', 'good',\n",
       "       'bad', 'good', 'good', 'good', 'good', 'bad', 'good', 'good',\n",
       "       'good', 'bad', 'good', 'good', 'good', 'good', 'good', 'good',\n",
       "       'good', 'bad', 'good', 'good', 'good', 'good', 'good', 'bad',\n",
       "       'good', 'good', 'good', 'good', 'good', 'good', 'good', 'good',\n",
       "       'bad', 'good', 'good', 'bad', 'bad', 'good', 'bad', 'good', 'good',\n",
       "       'good', 'good', 'good', 'good', 'good', 'good', 'good', 'good',\n",
       "       'good', 'good', 'good', 'bad', 'good', 'good', 'bad', 'bad',\n",
       "       'good', 'good', 'good', 'bad', 'good', 'good', 'bad', 'good',\n",
       "       'good', 'good', 'good', 'bad', 'bad', 'good', 'good', 'bad',\n",
       "       'good', 'good', 'good', 'good', 'good', 'good', 'good', 'good',\n",
       "       'bad', 'good', 'good', 'good', 'good', 'good', 'good', 'bad',\n",
       "       'bad', 'bad', 'good', 'bad', 'good', 'good', 'good', 'bad', 'bad',\n",
       "       'bad', 'good', 'good', 'good', 'good', 'good', 'good', 'good',\n",
       "       'good', 'good', 'good', 'bad', 'bad', 'bad', 'good', 'bad', 'bad',\n",
       "       'good', 'good', 'good', 'good', 'bad', 'good', 'bad', 'bad',\n",
       "       'good', 'good', 'good', 'bad', 'good', 'good', 'good', 'good',\n",
       "       'bad', 'bad', 'good', 'bad', 'good', 'good', 'good', 'good',\n",
       "       'good', 'bad', 'good', 'good', 'good', 'good', 'good', 'good',\n",
       "       'good', 'good', 'good', 'bad', 'bad', 'good', 'good', 'good',\n",
       "       'bad', 'good', 'good', 'good', 'bad', 'bad', 'bad', 'good', 'bad',\n",
       "       'good', 'good', 'bad', 'good', 'bad', 'bad', 'good', 'good',\n",
       "       'good', 'good', 'bad', 'good', 'bad', 'bad', 'good', 'good',\n",
       "       'good', 'good', 'good', 'bad', 'good', 'good', 'good', 'bad',\n",
       "       'bad', 'good', 'good', 'good', 'good', 'good', 'bad', 'good',\n",
       "       'good', 'good', 'good', 'good', 'bad', 'good', 'good', 'good',\n",
       "       'good', 'good', 'bad', 'good', 'good', 'bad', 'good', 'good',\n",
       "       'good', 'bad', 'bad', 'bad', 'good', 'good', 'good', 'good',\n",
       "       'good', 'good', 'good', 'bad', 'good', 'good', 'bad', 'good',\n",
       "       'good', 'good', 'good', 'good', 'good', 'good', 'good', 'good',\n",
       "       'good', 'good', 'good', 'good', 'good', 'good', 'good', 'good',\n",
       "       'good', 'bad', 'good', 'bad', 'good'], dtype='<U4')"
      ]
     },
     "execution_count": 15,
     "metadata": {},
     "output_type": "execute_result"
    }
   ],
   "source": [
    "# Previsões utilizando os registros de teste\n",
    "previsoes = naive_bayes.predict(X_teste)\n",
    "previsoes"
   ]
  },
  {
   "cell_type": "code",
   "execution_count": 17,
   "metadata": {},
   "outputs": [
    {
     "data": {
      "text/plain": [
       "array([[ 41,  45],\n",
       "       [ 42, 172]], dtype=int64)"
      ]
     },
     "execution_count": 17,
     "metadata": {},
     "output_type": "execute_result"
    }
   ],
   "source": [
    "# Geração da matriz de confusão\n",
    "confusao = confusion_matrix(y_teste, previsoes)\n",
    "confusao"
   ]
  },
  {
   "cell_type": "code",
   "execution_count": 18,
   "metadata": {},
   "outputs": [
    {
     "data": {
      "text/plain": [
       "0.71"
      ]
     },
     "execution_count": 18,
     "metadata": {},
     "output_type": "execute_result"
    }
   ],
   "source": [
    "# Cálculo da taxa de acerto e erro\n",
    "taxa_acerto = accuracy_score(y_teste, previsoes)\n",
    "taxa_erro = 1 - taxa_acerto\n",
    "taxa_acerto"
   ]
  },
  {
   "cell_type": "code",
   "execution_count": 20,
   "metadata": {},
   "outputs": [
    {
     "data": {
      "image/png": "[encoded data removed]",
      "text/plain": [
       "<Figure size 576x396 with 1 Axes>"
      ]
     },
     "metadata": {},
     "output_type": "display_data"
    },
    {
     "data": {
      "text/plain": [
       "<AxesSubplot:title={'center':'GaussianNB Confusion Matrix'}, xlabel='Predicted Class', ylabel='True Class'>"
      ]
     },
     "execution_count": 20,
     "metadata": {},
     "output_type": "execute_result"
    }
   ],
   "source": [
    "# Visualização da matriz de confusão\n",
    "v = ConfusionMatrix(GaussianNB())\n",
    "v.fit(X_treinamento, y_treinamento)\n",
    "v.score(X_teste, y_teste)\n",
    "v.poof()"
   ]
  },
  {
   "cell_type": "code",
   "execution_count": 21,
   "metadata": {},
   "outputs": [
    {
     "data": {
      "text/plain": [
       "(1, 20)"
      ]
     },
     "execution_count": 21,
     "metadata": {},
     "output_type": "execute_result"
    }
   ],
   "source": [
    "# Previsão com novo registro, transformando os atributos categóricos em numéricos\n",
    "novo_credito = pd.read_csv('NovoCredit.csv')\n",
    "novo_credito.shape"
   ]
  },
  {
   "cell_type": "code",
   "execution_count": 22,
   "metadata": {},
   "outputs": [],
   "source": [
    "# Usamos o mesmo objeto que foi criado antes, para manter o padrão dos dados\n",
    "# Chamamos somente o método \"transform\", pois a adaptação aos dados (fit) já foi feita anteriormente\n",
    "novo_credito = novo_credito.iloc[:,0:20].values\n",
    "novo_credito[:,0] = labelencoder1.transform(novo_credito[:,0])\n",
    "novo_credito[:, 2] = labelencoder2.transform(novo_credito[:, 2])\n",
    "novo_credito[:, 3] = labelencoder3.transform(novo_credito[:, 3])\n",
    "novo_credito[:, 5] = labelencoder4.transform(novo_credito[:, 5])\n",
    "novo_credito[:, 6] = labelencoder5.transform(novo_credito[:, 6])\n",
    "novo_credito[:, 8] = labelencoder6.transform(novo_credito[:, 8])\n",
    "novo_credito[:, 9] = labelencoder7.transform(novo_credito[:, 9])\n",
    "novo_credito[:, 11] = labelencoder8.transform(novo_credito[:, 11])\n",
    "novo_credito[:, 13] = labelencoder9.transform(novo_credito[:, 13])\n",
    "novo_credito[:, 14] = labelencoder10.transform(novo_credito[:, 14])\n",
    "novo_credito[:, 16] = labelencoder11.transform(novo_credito[:, 16])\n",
    "novo_credito[:, 18] = labelencoder12.transform(novo_credito[:, 18])\n",
    "novo_credito[:, 19] = labelencoder13.transform(novo_credito[:, 19])"
   ]
  },
  {
   "cell_type": "code",
   "execution_count": 23,
   "metadata": {
    "lines_to_next_cell": 2
   },
   "outputs": [
    {
     "data": {
      "text/plain": [
       "array(['good'], dtype='<U4')"
      ]
     },
     "execution_count": 23,
     "metadata": {},
     "output_type": "execute_result"
    }
   ],
   "source": [
    "# Resultado da previsão\n",
    "naive_bayes.predict(novo_credito)"
   ]
  },
  {
   "cell_type": "code",
   "execution_count": null,
   "metadata": {},
   "outputs": [],
   "source": []
  }
 ],
 "metadata": {
  "jupytext": {
   "cell_metadata_filter": "-all",
   "main_language": "python",
   "notebook_metadata_filter": "-all"
  },
  "kernelspec": {
   "display_name": "Python 3 (ipykernel)",
   "language": "python",
   "name": "python3"
  },
  "language_info": {
   "codemirror_mode": {
    "name": "ipython",
    "version": 3
   },
   "file_extension": ".py",
   "mimetype": "text/x-python",
   "name": "python",
   "nbconvert_exporter": "python",
   "pygments_lexer": "ipython3",
   "version": "3.9.7"
  }
 },
 "nbformat": 4,
 "nbformat_minor": 4
}
